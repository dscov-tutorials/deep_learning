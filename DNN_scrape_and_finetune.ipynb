{
 "cells": [
  {
   "cell_type": "markdown",
   "metadata": {
    "colab_type": "text",
    "id": "view-in-github"
   },
   "source": [
    "<a href=\"https://colab.research.google.com/github/drewlinsley/colabs/blob/master/DNN_scrape_and_finetune.ipynb\" target=\"_parent\"><img src=\"https://colab.research.google.com/assets/colab-badge.svg\" alt=\"Open In Colab\"/></a>"
   ]
  },
  {
   "cell_type": "markdown",
   "metadata": {
    "colab_type": "text",
    "id": "dgGk4vLIV8RS"
   },
   "source": [
    "**0. DISCoV 2/7/19**\n",
    "You can find the [presentation link here](https://docs.google.com/presentation/d/1pJi1fPt7i7enJAClSVkPOw3pl515YN0Q44kvO8zSpdc/edit?usp=sharing)."
   ]
  },
  {
   "cell_type": "markdown",
   "metadata": {
    "colab_type": "text",
    "id": "bqDrZiMSVfQO"
   },
   "source": [
    "**1. Python imports.**\n",
    "\n",
    "Let's split this into separate blocks for clarity.\n",
    "\n",
    "Here, you will import `drive` from the google colab library for connecting to [google drive](https://github.com/googlecolab/colabtools/blob/master/google/colab/drive.py) and `files` for [uploading local files](https://github.com/googlecolab/colabtools/blob/master/google/colab/files.py) (i.e. your machine) to this kernel. Finally, MediaFileUpload is a class for more efficient [uploads](https://github.com/googleapis/google-api-python-client/blob/master/googleapiclient/http.py). "
   ]
  },
  {
   "cell_type": "code",
   "execution_count": 11,
   "metadata": {},
   "outputs": [],
   "source": [
    "using_colab = False"
   ]
  },
  {
   "cell_type": "code",
   "execution_count": 2,
   "metadata": {
    "colab": {},
    "colab_type": "code",
    "id": "SHIsvXTP9lT3"
   },
   "outputs": [],
   "source": [
    "if using_colab:\n",
    "    from google.colab import drive\n",
    "    from google.colab import files as cfiles\n",
    "    from googleapiclient.http import MediaFileUpload\n"
   ]
  },
  {
   "cell_type": "code",
   "execution_count": null,
   "metadata": {
    "colab": {},
    "colab_type": "code",
    "id": "BEdxLGEYVkuX"
   },
   "outputs": [],
   "source": [
    "import numpy as np  # Note numpy is aliased as np\n",
    "from PIL import Image\n",
    "import os\n",
    "import shutil\n",
    "from glob import glob  # File path collection\n",
    "import tensorflow as tf  # Note tensorflow is aliased as tf\n",
    "from matplotlib import pyplot as plt  # Library for plotting images\n",
    "\n",
    "# Keras model utilities\n",
    "from keras.models import Model  # A Keras class for constructing a deep neural network model\n",
    "from keras.models import Sequential  # A Keras class for connecting deep neural network layers \n",
    "from keras.callbacks import ModelCheckpoint\n",
    "from keras.preprocessing.image import ImageDataGenerator  # A class for data loading during model training\n",
    "\n",
    "# Keras ResNet routines\n",
    "from keras.applications.resnet50 import ResNet50  # Import the ResNet deep neural network\n",
    "from keras.preprocessing import image  # Routines for loading image data\n",
    "from keras.applications.resnet50 import preprocess_input  # ResNet-specific routines for preprocessing images\n",
    "from keras.applications.resnet50 import decode_predictions  # ResNet-specific routines for extracting predictions\n",
    "\n",
    "# Keras layers\n",
    "from keras.layers import Dense  # A fully connected neural networld layer\n",
    "from keras.layers import Activation  # A class for point-wise nonlinearity layers\n",
    "from keras.layers import Flatten  # Reshape a tensor into a matrix\n",
    "from keras.layers import Dropout  # A regularization layer which randomly zeros neural network units during training.\n",
    "\n",
    "# Optimizers\n",
    "from keras.optimizers import Adam  # Adam optimizer https://arxiv.org/abs/1412.6980\n",
    "from keras.optimizers import SGD  # Stochastic gradient descent optimizer"
   ]
  },
  {
   "cell_type": "markdown",
   "metadata": {
    "colab_type": "text",
    "id": "0vQJXr_STYXw"
   },
   "source": [
    "We will also install the google_images_download library to scrape images from websites. Later, we will pass these images through trained deep neural networks.\n",
    "\n",
    "See how we can install libraries in python using the `pip` command. This is the python package manager, and is typically called with : `pip install my_package`. Note that because we are using the jupyter/ipython interface, we have to prepend an exclamation point `!` to call pip with the command line interpreter."
   ]
  },
  {
   "cell_type": "code",
   "execution_count": null,
   "metadata": {
    "colab": {},
    "colab_type": "code",
    "id": "loerA-vW6XtL"
   },
   "outputs": [],
   "source": [
    "!pip install google_images_download\n",
    "from google_images_download import google_images_download   #importing the library"
   ]
  },
  {
   "cell_type": "markdown",
   "metadata": {
    "colab_type": "text",
    "id": "GMZM6iZQbicB"
   },
   "source": [
    "**2. Set global variables**\n",
    "\n",
    "This is not \"good programming practice\" under typical circumstances, but it is reasonable for python notebooks. So bear with me.\n",
    "\n",
    "We will set global variables (paths, etc.) and mount google drive here."
   ]
  },
  {
   "cell_type": "code",
   "execution_count": 7,
   "metadata": {
    "colab": {},
    "colab_type": "code",
    "id": "1QXopZ3WcEuc"
   },
   "outputs": [
    {
     "name": "stdout",
     "output_type": "stream",
     "text": [
      "./image_dataset\n"
     ]
    }
   ],
   "source": [
    "def make_dir(d):\n",
    "    \"\"\"Make directory d if it does not exist.\"\"\"\n",
    "    if not os.path.exists(d):\n",
    "        os.makedirs(d)\n",
    "\n",
    "\n",
    "ROOT_DIR = \".\"\n",
    "if using_colab:\n",
    "    ROOT_DIR = \"/content\"\n",
    "    drive.mount(\"/content/gdrive\")\n",
    "\n",
    "IMG_DIR  = \"%s/image_dataset\" % ROOT_DIR\n",
    "PROC_DIR = \"%s_processed\" % IMG_DIR\n",
    "print(\"TensorFlow version: \" + tf.__version__)\n",
    "\n",
    "make_dir(IMG_DIR)\n",
    "make_dir(PROC_DIR)\n",
    "\n",
    "# If necessary, clear out the directories\n",
    "# !rm -rf IMG_DIR\n",
    "# !rm -rf PROC_DIR"
   ]
  },
  {
   "cell_type": "markdown",
   "metadata": {
    "colab_type": "text",
    "id": "E0KYt-vFcgJ9"
   },
   "source": [
    "**3. Download images for your DNN.**\n",
    "\n",
    "Using the google_images_download library, scrape images related to whatever you'd like. Later, we will pass these images through a deep neural network, and evaluate what it sees.\n",
    "\n",
    "To scrape images, you will provide a python dictionary with key/value pairs that are interpreted by the library. These include a comma-delimeted list of keywords of what image categories to scrape for, a per-category image limit, a boolean for whether or not to print progress, and an output directory. Feel free to change any of these. [Follow this link for the full api.](https://github.com/hardikvasa/google-images-download/blob/master/google_images_download/google_images_download.py#L66)\n",
    "\n",
    "N.B. This code block may fail due to issues with meta data for some images that causes errors in the google web scraper. If it fails, simply retry the code block until it completes."
   ]
  },
  {
   "cell_type": "code",
   "execution_count": null,
   "metadata": {
    "colab": {},
    "colab_type": "code",
    "id": "zO6Z76AW6a60"
   },
   "outputs": [],
   "source": [
    "def pad_name(f, padding=3):\n",
    "  \"\"\"Zero pad a string\"\"\"\n",
    "  if not isinstance(f, basestring):\n",
    "    f = str(f)\n",
    "  fl = len(f)\n",
    "  ll = padding - fl\n",
    "  for p in range(ll):\n",
    "    f = '0' + f\n",
    "  return f\n",
    "\n",
    "height     = 224\n",
    "width      = 224\n",
    "class_list = [\"cat\", \"dog\", \"bird\", \"turtle\", \"cheetah\"]  # Categories of object images\n",
    "response = google_images_download.googleimagesdownload()   # Class instantiation\n",
    "arguments = {\n",
    "  \"keywords\": \",\".join(class_list),\n",
    "  \"limit\": 10,\n",
    "  \"print_urls\": False,\n",
    "  \"format\": \"jpg\",\n",
    "  \"type\": \"photo\",\n",
    "  \"color_type\": \"full-color\",\n",
    "  \"output_directory\": IMG_DIR\n",
    "}\n",
    "paths = response.download(arguments)   # Passing the arguments to the function\n",
    "# print(paths)   # Print absolute paths of the downloaded images\n",
    "\n",
    "# Copy files to PROC_DIR into the Keras expected format\n",
    "categories = glob(IMG_DIR + '/*')\n",
    "files = []\n",
    "for cat in categories:\n",
    "  it_dir = \"%s/%s\" % (PROC_DIR, cat.split('/')[-1])\n",
    "  make_dir(it_dir)\n",
    "  print('Filling directory: %s' % it_dir)\n",
    "  tfiles = glob(cat + '/*.jpg')\n",
    "  for idx, f in enumerate(tfiles):\n",
    "    try:\n",
    "      # Filter to make sure they can load in keras\n",
    "      img = image.load_img(f, target_size=(height, width))\n",
    "      path = \"%s%s%s.jpg\" % (it_dir, os.path.sep, pad_name(idx))\n",
    "      shutil.copy2(f, path)\n",
    "      files += [path]\n",
    "    except Exception as e:\n",
    "      print '%s %s is not an image: %s' % (cat, idx, f)\n",
    "print files\n",
    "\n"
   ]
  },
  {
   "cell_type": "markdown",
   "metadata": {
    "colab_type": "text",
    "id": "-FoBqJrceHcg"
   },
   "source": [
    "**3. Load a pretrained ResNet dnn and process an image.**\n",
    "\n",
    "We take advantage of Keras and use its built in ResNet50 model -- a near state-of-the-art 50-layer object classification model, that has been trained on millions of images. You can load this model by initializing the ResNet50 class with the weights-argument set to `imagenet` (the name of the large-image dataset used for training).\n",
    "\n",
    "Since we aggregated paths of our scraped images in the variable `files` in the previous code block, we will begin by loading the first of those images into memory, then passing it into the model.\n",
    "\n",
    "A few comments:\n",
    "\n",
    "\n",
    "\n",
    "*   See how we have to specify `target_size` in the `load_img` method? This is because the ResNet50 model was trained on images of this size. The method will \"center crop\" images to this size after loading them.\n",
    "*   After loading the image, you convert it into an array for processing by Keras and add a singleton dimension to the first axis. The resulting image tensor will have shape `batch/height/width/channels`, or 1/224/224/3. We have to do this because the model was trained on image batches (i.e., multiple images of 224/224/3 size).\n",
    "*   Finally, the image is preprocessed by subtracting off the imagenet dataset mean value from its red/green/blue channels.  \n",
    "*   The model has a 1000-dimension output, corresponding to the probability that the image belongs to any of 1000 categories that are in the imagenet dataset. The function decode_predictions returns the category names corresponding to the models predictions.\n",
    "\n"
   ]
  },
  {
   "cell_type": "code",
   "execution_count": null,
   "metadata": {
    "colab": {},
    "colab_type": "code",
    "id": "YfALedpb_dG3"
   },
   "outputs": [],
   "source": [
    "base_model = ResNet50(weights=\"imagenet\")\n",
    "\n",
    "img = image.load_img(files[0], target_size=(height, width))\n",
    "x = image.img_to_array(img)\n",
    "x = np.expand_dims(x, axis=0)\n",
    "x = preprocess_input(x)\n",
    "\n",
    "preds = base_model.predict(x)\n",
    "top_3 = decode_predictions(preds, top=3)[0]\n",
    "print(\"Predicted: \", top_3)\n",
    "\n",
    "f = plt.figure()\n",
    "plt.imshow(img)\n",
    "plt.grid('off')\n",
    "plt.axis('off')\n",
    "plt.title(\"Ground truth: %s\\nprediction: %s\" % (files[0], top_3))\n",
    "plt.show()\n",
    "plt.close(f)"
   ]
  },
  {
   "cell_type": "markdown",
   "metadata": {
    "colab_type": "text",
    "id": "vNDKspRHNAMC"
   },
   "source": [
    "**4. Initialize model and train with different sized images.**\n",
    "\n",
    "We might want to take this model and retrain it on some other task.\n",
    "\n",
    "This involves a few steps called model \"fine tuning\". We first reload the model but with the argument \"include_top\" set to False. This will load the model without its pretrained 1000-category classifier. The rest of the model uses convolutions -- sliding filters -- and by cutting off this top classifier we can map these filter responses to another task.\n",
    "\n",
    "Note how here we also change the input image size. We can do this because the model is fully convolutional until the final layer, where there is a spatially global pooling, followed by a linear readout. See below:\n",
    "\n",
    "![ResNet Architecture](https://cdn-images-1.medium.com/max/2100/1*S3TlG0XpQZSIpoDIUCQ0RQ.jpeg)\n",
    "\n",
    "Compare the 34-layer residual network to the classic \"VGG-19\" network, which uses a cascade of fully connected layers to render decisions. \n"
   ]
  },
  {
   "cell_type": "code",
   "execution_count": null,
   "metadata": {
    "colab": {},
    "colab_type": "code",
    "id": "a_QK2Xj8xUtj"
   },
   "outputs": [],
   "source": [
    "base_model = ResNet50(\n",
    "  weights='imagenet', \n",
    "  include_top=False, \n",
    "  input_shape=(height, width, 3))"
   ]
  },
  {
   "cell_type": "markdown",
   "metadata": {
    "colab_type": "text",
    "id": "DZoQIbT0NDmL"
   },
   "source": [
    "**5. Augmentations**\n",
    "\n",
    "CNNs are very sample inefficient: they need to be exposed to large amounts of image-level variability to reach their potential in image classification. This is because CNNs have very weak biases about natural images, relying only on convolutions that implement local-weight sharing.\n",
    "\n",
    "Image datasets can be augmented with all sorts of transformations to expose CNNs to more variability and improve performance. You can do this easily in Keras with the built-in  [ImageDataGenerator class](https://keras.io/preprocessing/image/).\n",
    "\n",
    "We set our batch size to 32 (the number of images we process at once during training), since this is a minimal size to use in a model that incorporates so-called \"batch normalization\" (like the ResNet).\n",
    "\n"
   ]
  },
  {
   "cell_type": "code",
   "execution_count": null,
   "metadata": {
    "colab": {},
    "colab_type": "code",
    "id": "w-AsSASsyxuM"
   },
   "outputs": [],
   "source": [
    "batch_size = 32  # Number of images to process at once\n",
    "\n",
    "train_datagen =  ImageDataGenerator(\n",
    "  preprocessing_function=preprocess_input,\n",
    "  rotation_range=90,\n",
    "  horizontal_flip=True,\n",
    "  vertical_flip=True\n",
    " )\n",
    "\n",
    "train_generator = train_datagen.flow_from_directory(\n",
    "  PROC_DIR, \n",
    "  target_size=(height, width),\n",
    "  batch_size=batch_size)\n",
    "!ls /content/image_dataset_processed/"
   ]
  },
  {
   "cell_type": "markdown",
   "metadata": {
    "colab_type": "text",
    "id": "AA7QSPcGNRNQ"
   },
   "source": [
    "** 6. \"Finetune\" a trained model for your task**\n",
    "Now we put the pieces together and create the new model for fine tuning.\n",
    "\n",
    "We build a function `build_fintune_model` that will add classifier layers (you can increase the number of these by adding numbers to the `FC_LAYERS` list) and prepare your model for finetuning. This also includes fixing the pretrained convolutional layers so that they can no longer be trained.\n",
    "\n",
    "We also include dropout, which is an effective regularizer for CNNs."
   ]
  },
  {
   "cell_type": "code",
   "execution_count": null,
   "metadata": {
    "colab": {},
    "colab_type": "code",
    "id": "XFKXKgaPz62R"
   },
   "outputs": [],
   "source": [
    "def build_finetune_model(base_model, dropout, fc_layers, num_classes, freeze=True):\n",
    "  \"\"\"Load pretrained model, add readout layer, fix the convolutional layers.\"\"\"\n",
    "  if freeze:\n",
    "    for layer in base_model.layers:\n",
    "      layer.trainable = False\n",
    "\n",
    "  x = base_model.output\n",
    "  x = Flatten()(x)\n",
    "  for fc in fc_layers:\n",
    "    # New FC layer, random init\n",
    "    x = Dense(fc, activation='relu')(x) \n",
    "    x = Dropout(dropout)(x)\n",
    "\n",
    "  # New softmax layer\n",
    "  predictions = Dense(num_classes, activation='softmax')(x) \n",
    "  \n",
    "  finetune_model = Model(inputs=base_model.input, outputs=predictions)\n",
    "\n",
    "  return finetune_model\n",
    "\n",
    "FC_LAYERS  = [32]  # Add more layers but adding elements to this list\n",
    "dropout    = 0.5\n",
    "\n",
    "finetune_model = build_finetune_model(\n",
    "  base_model, \n",
    "  dropout=dropout, \n",
    "  fc_layers=FC_LAYERS, \n",
    "  num_classes=len(class_list))\n",
    "print(finetune_model.summary())"
   ]
  },
  {
   "cell_type": "markdown",
   "metadata": {
    "colab_type": "text",
    "id": "xFCOlxtSNYwg"
   },
   "source": [
    "**7. Save performance and plot results.**\n",
    "\n",
    "See [the tutorial here ](https://colab.research.google.com/drive/1srw_HFWQ2SMgmWIawucXfusGzrj1_U0q)for instructions on interacting with your mounted google drive and storing your work there.\n",
    "\n"
   ]
  },
  {
   "cell_type": "code",
   "execution_count": null,
   "metadata": {
    "colab": {},
    "colab_type": "code",
    "id": "4cdLwMG40Ei5"
   },
   "outputs": [],
   "source": [
    "def plot_training(history, plot_val=False):\n",
    "  \"\"\"Plot the training and validation loss + accuracy\"\"\"\n",
    "  acc = history.history['acc']\n",
    "  # val_acc = history.history['val_acc']\n",
    "  loss = history.history['loss']\n",
    "  # val_loss = history.history['val_loss']\n",
    "  epochs = range(len(acc))\n",
    "\n",
    "  f = plt.figure()\n",
    "  plt.subplot(121)\n",
    "  plt.plot(epochs, acc, label='Train')\n",
    "  if plot_val:\n",
    "    plt.plot(epochs, val_acc, label='Val')\n",
    "  plt.title('Training and validation accuracy')\n",
    "  plt.legend()\n",
    "\n",
    "  plt.subplot(122)\n",
    "  plt.plot(epochs, loss, label='Train')\n",
    "  if plot_val:\n",
    "    plt.plot(epochs, val_loss, label='Val')\n",
    "  plt.title('Training and validation loss')\n",
    "  plt.legend()\n",
    "  plt.savefig('acc_vs_epochs.png')\n",
    "  plt.show()\n",
    "\n",
    "\n",
    "epochs = 10  # How many loops through the entire dataset\n",
    "num_train_images = len(files)\n",
    "lr = 1e-4\n",
    "adam = Adam(lr=lr)\n",
    "finetune_model.compile(adam, loss='categorical_crossentropy', metrics=['accuracy'])\n",
    "\n",
    "filepath=\"%s/fietuned_ResNet50_model_weights.h5\" % ROOT_DIR\n",
    "checkpoint = ModelCheckpoint(filepath, monitor=[\"acc\"], verbose=1, mode='max')\n",
    "callbacks_list = [checkpoint]  # Iteratively executed during training\n",
    "\n",
    "history = finetune_model.fit_generator(\n",
    "  train_generator,\n",
    "  epochs=epochs,\n",
    "  workers=8,\n",
    "  steps_per_epoch=num_train_images // batch_size,\n",
    "  shuffle=True,\n",
    "  callbacks=callbacks_list)\n",
    "\n",
    "plot_training(history)\n"
   ]
  },
  {
   "cell_type": "markdown",
   "metadata": {
    "colab_type": "text",
    "id": "GuL67ZYfW9Fb"
   },
   "source": [
    "---\n",
    "**Exercises**\n",
    "\n",
    "\n",
    "---\n",
    "\n",
    "1. Compare the ResNet with other models build into Keras. You can find those [here](https://keras.io/applications/).\n",
    "\n",
    "2. How does changing the Adam learning rate influence your finetuning performance? What if you swap in a different Keras [optimizer](https://keras.io/optimizers/)?\n",
    "\n",
    "3. What happens to finetuning performance when you add more than one classifier layer?\n",
    "\n",
    "4. What kinds of data augmentations help? What kinds hurt?\n",
    "\n",
    "5. Does dropout help fine tuning? \n",
    "\n",
    "6. Why is it normal to \"freeze\" convolutional layers when training a new classifier on top? What happens when you do not freeze these layers?\n",
    "\n",
    "7. Can you figure out how to extract and plot filters from the network?"
   ]
  }
 ],
 "metadata": {
  "accelerator": "GPU",
  "colab": {
   "collapsed_sections": [],
   "include_colab_link": true,
   "name": "DNN_scrape_and_finetune",
   "private_outputs": true,
   "provenance": [],
   "version": "0.3.2"
  },
  "kernelspec": {
   "display_name": "Python 3",
   "language": "python",
   "name": "python3"
  },
  "language_info": {
   "codemirror_mode": {
    "name": "ipython",
    "version": 3
   },
   "file_extension": ".py",
   "mimetype": "text/x-python",
   "name": "python",
   "nbconvert_exporter": "python",
   "pygments_lexer": "ipython3",
   "version": "3.7.0"
  }
 },
 "nbformat": 4,
 "nbformat_minor": 2
}
